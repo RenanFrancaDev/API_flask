{
  "nbformat": 4,
  "nbformat_minor": 0,
  "metadata": {
    "colab": {
      "provenance": [],
      "include_colab_link": true
    },
    "kernelspec": {
      "name": "python3",
      "display_name": "Python 3"
    },
    "language_info": {
      "name": "python"
    }
  },
  "cells": [
    {
      "cell_type": "markdown",
      "metadata": {
        "id": "view-in-github",
        "colab_type": "text"
      },
      "source": [
        "<a href=\"https://colab.research.google.com/github/RenanFrancaDev/API_flask/blob/main/DIO_Flask_challenge.ipynb\" target=\"_parent\"><img src=\"https://colab.research.google.com/assets/colab-badge.svg\" alt=\"Open In Colab\"/></a>"
      ]
    },
    {
      "cell_type": "code",
      "execution_count": null,
      "metadata": {
        "colab": {
          "base_uri": "https://localhost:8080/"
        },
        "id": "yL4pONv3rJJg",
        "outputId": "b136a915-8932-4d4b-946f-257c5b2817d2"
      },
      "outputs": [
        {
          "output_type": "stream",
          "name": "stdout",
          "text": [
            "Requirement already satisfied: pyngrok in /usr/local/lib/python3.10/dist-packages (7.1.2)\n",
            "Requirement already satisfied: PyYAML>=5.1 in /usr/local/lib/python3.10/dist-packages (from pyngrok) (6.0.1)\n"
          ]
        }
      ],
      "source": [
        "!pip install pyngrok\n",
        "from pyngrok import ngrok\n",
        "ngrok.set_auth_token(\"<YOUR_TOKEN_HERE>\") # -> Go to 'https://www.ngrok.com/' to create your account and get your Token"
      ]
    },
    {
      "cell_type": "code",
      "source": [
        "from flask import request, jsonify, Flask\n",
        "import random as rk\n",
        "import os\n",
        "import threading"
      ],
      "metadata": {
        "id": "HBetcZDssbJn"
      },
      "execution_count": null,
      "outputs": []
    },
    {
      "cell_type": "code",
      "source": [
        "spreadsheet = [\n",
        "    {\n",
        "        \"Number\": \"1\",\n",
        "        \"Name\": \"Mahesh\",\n",
        "        \"Age\": \"25\",\n",
        "        \"City\": \"Bangalore\",\n",
        "        \"Country\": \"India\"\n",
        "    },\n",
        "    {\n",
        "        \"Number\": \"2\",\n",
        "        \"Name\": \"Alex\",\n",
        "        \"Age\": \"26\",\n",
        "        \"City\": \"London\",\n",
        "        \"Country\": \"England\"\n",
        "    },\n",
        "    {\n",
        "        \"Number\": \"3\",\n",
        "        \"Name\": \"David\",\n",
        "        \"Age\": \"27\",\n",
        "        \"City\": \"San Francisco\",\n",
        "        \"Country\": \"USA\"\n",
        "    },\n",
        "    {\n",
        "        \"Number\": \"4\",\n",
        "        \"Name\": \"John\",\n",
        "        \"Age\": \"28\",\n",
        "        \"City\": \"Toronto\",\n",
        "        \"Country\": \"Canada\"\n",
        "    },\n",
        "    {\n",
        "        \"Number\": \"5\",\n",
        "        \"Name\": \"Chris\",\n",
        "        \"Age\": \"29\",\n",
        "        \"City\": \"Paris\",\n",
        "        \"Country\": \"France\"\n",
        "    }\n",
        "]"
      ],
      "metadata": {
        "id": "1RxagQEDsn-v"
      },
      "execution_count": null,
      "outputs": []
    },
    {
      "cell_type": "code",
      "source": [
        "app = Flask(__name__)\n",
        "port = \"5000\"\n",
        "\n",
        "# Open a ngrok tunnel to the HTTP server\n",
        "public_url = ngrok.connect(port).public_url\n",
        "print(f\" * ngrok tunnel \\\"{public_url}\\\" -> \\\"http://127.0.0.1:{port}\\\"\")\n",
        "\n",
        "# Update any base URLs to use the public ngrok URL\n",
        "app.config[\"BASE_URL\"] = public_url\n",
        "\n",
        "@app.route(\"/\") #code to assign HomePage URL in our app to function home.\n",
        "\n",
        "def home():\n",
        "  '''\n",
        "  The entire line below must be written in a single line.\n",
        "  '''\n",
        "  return \"<marquee><h2> TO CHECK THIS APP OUTPUT USE THE ROUTE '/index'.</h2></marquee>\"\n",
        "\n",
        "@app.route(\"/index\") #return JSON object\n",
        "\n",
        "def input():\n",
        "  return jsonify(spreadsheet)\n",
        "\n",
        " # Start the Flask server in a new thread\n",
        "threading.Thread(target=app.run, kwargs={\"use_reloader\": False}).start()\n"
      ],
      "metadata": {
        "colab": {
          "base_uri": "https://localhost:8080/"
        },
        "id": "cJsvLbL6rRWr",
        "outputId": "6af5503f-a6d9-4a4f-a0e4-eb621b602987"
      },
      "execution_count": null,
      "outputs": [
        {
          "output_type": "stream",
          "name": "stdout",
          "text": [
            " * ngrok tunnel \"https://953a-34-138-174-162.ngrok-free.app\" -> \"http://127.0.0.1:5000\"\n",
            " * Serving Flask app '__main__'\n",
            " * Debug mode: off\n"
          ]
        }
      ]
    },
    {
      "cell_type": "code",
      "source": [],
      "metadata": {
        "id": "qqyqehYUv1_n"
      },
      "execution_count": null,
      "outputs": []
    },
    {
      "cell_type": "code",
      "source": [],
      "metadata": {
        "id": "oQqz4J1uv2N_"
      },
      "execution_count": null,
      "outputs": []
    }
  ]
}